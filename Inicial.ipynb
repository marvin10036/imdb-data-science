{
 "cells": [
  {
   "cell_type": "markdown",
   "id": "8572b93b",
   "metadata": {},
   "source": [
    "Teste\n",
    "\n",
    "Features que consideramos extrair:\n",
    "* Gênero\n",
    "* Diretor\n",
    "* Elenco principal\n",
    "* Nota do imdb (meta score) (geral e crítica)\n",
    "* Nominação (as definidas nos objetivos)\n",
    "* Duração (talvez)\n",
    "* País de origem\n",
    "* Orçamento\n",
    "* Mesclar com atores ganhadores e indicados\n"
   ]
  }
 ],
 "metadata": {
  "language_info": {
   "name": "python"
  }
 },
 "nbformat": 4,
 "nbformat_minor": 5
}
